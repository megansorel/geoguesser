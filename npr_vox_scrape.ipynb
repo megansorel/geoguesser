{
 "cells": [
  {
   "cell_type": "code",
   "execution_count": null,
   "metadata": {},
   "outputs": [],
   "source": [
    "import pandas as pd\n",
    "import requests\n",
    "from bs4 import BeautifulSoup\n",
    "import datetime\n",
    "import re\n",
    "from pathlib import Path\n",
    "import time"
   ]
  },
  {
   "cell_type": "code",
   "execution_count": null,
   "metadata": {},
   "outputs": [],
   "source": [
    "vox_url = 'https://www.vox.com/'\n",
    "npr_url = 'https://www.npr.org/'"
   ]
  },
  {
   "cell_type": "code",
   "execution_count": null,
   "metadata": {},
   "outputs": [],
   "source": [
    "vox_res = requests.get(vox_url)\n",
    "npr_res = requests.get(npr_url)\n",
    "\n",
    "print(vox_res.status_code)\n",
    "print(npr_res.status_code)"
   ]
  },
  {
   "cell_type": "code",
   "execution_count": null,
   "metadata": {},
   "outputs": [],
   "source": [
    "npr_soup = BeautifulSoup(npr_res.content, 'lxml')\n",
    "vox_soup = BeautifulSoup(vox_res.content, 'lxml')"
   ]
  },
  {
   "cell_type": "code",
   "execution_count": null,
   "metadata": {},
   "outputs": [],
   "source": [
    "#whether the article was featured or not\n",
    "headline = []\n",
    "date_scraped = []\n",
    "article_date = []\n",
    "topic_tag = []\n",
    "article_text = []\n",
    "website = []\n",
    "is_top_story = []"
   ]
  },
  {
   "cell_type": "markdown",
   "metadata": {},
   "source": [
    "# NPR Scrape"
   ]
  },
  {
   "cell_type": "markdown",
   "metadata": {},
   "source": [
    "Scraping Featured Stories\n",
    "- url\n",
    "- topic tag\n",
    "- title"
   ]
  },
  {
   "cell_type": "code",
   "execution_count": null,
   "metadata": {},
   "outputs": [],
   "source": [
    "#NPR \n",
    "\n",
    "#find the section with the headline news and featured articles\n",
    "group_section = npr_soup.find('div', {'class':'stories-wrap stories-wrap-featured'})\n",
    "\n",
    "#get only articles\n",
    "featured_stories = group_section.find_all('div', {'class':'story-wrap'})\n",
    "\n",
    "npr_urls = []\n",
    "#append urls for article \n",
    "for featured_story in featured_stories: \n",
    "    npr_urls.append(featured_story.find('a')['href'])          #get urls and append to urls list\n",
    "    title = featured_story.find('h3', {'class': 'title'})  # find all titles\n",
    "#     print(title, '\\n')\n",
    "    headline.append(title.text)                     #append titles to headline list\n",
    "    \n",
    "    slug = featured_story.find('h2', {'class':'slug'}) #find section containing topic\n",
    "    if slug is None:\n",
    "        topic_tag.append(None)\n",
    "    else:\n",
    "        slug = slug.text\n",
    "#     print(slug.strip(), '\\n\\n')\n",
    "        topic_tag.append(slug.strip())                   #append slug/topic to topic list\n",
    "    \n",
    "print(len(npr_urls))"
   ]
  },
  {
   "cell_type": "code",
   "execution_count": null,
   "metadata": {},
   "outputs": [],
   "source": [
    "lists = [headline, date_scraped, article_date, topic_tag, article_text, website]\n",
    "\n",
    "for item in lists:\n",
    "    print(len(item))"
   ]
  },
  {
   "cell_type": "markdown",
   "metadata": {},
   "source": [
    "Scraping Articles with One Article inside the story\n",
    "\n",
    "- date of article\n",
    "- full story\n",
    "- date of scrape\n",
    "- website"
   ]
  },
  {
   "cell_type": "code",
   "execution_count": null,
   "metadata": {},
   "outputs": [],
   "source": [
    "#setting up counter for creating a bool for the first(top) story\n",
    "counter = 1 \n",
    "\n",
    "# print(url)\n",
    "for url in npr_urls:\n",
    "    page = requests.get(url)\n",
    "    print(page.status_code)\n",
    "\n",
    "    article_soup = BeautifulSoup(page.content, 'lxml')\n",
    "\n",
    "    #website section, including pictures, that holds the p tags (main body of the article)\n",
    "    text_section = article_soup.select_one('#storytext') \n",
    "\n",
    "    # some articles' p tags are under a different name than storytext\n",
    "    if text_section is None:                      #article_soup.select_one(#storytext) ?? article_soup.find(div...)\n",
    "        text_section = article_soup.find('div', {'class':'ArticlePage-articleBody'})\n",
    "#     print(text_section)\n",
    "    \n",
    "    # Find the images sections of the articles\n",
    "    images = text_section.find_all('div', {'id': re.compile(r'res\\d+')})\n",
    "    for image in images: \n",
    "        image.extract()   #take out images from the text section due to nested 'p' tags\n",
    "\n",
    "    # Grab the article text and append to the article list \n",
    "    full_story = ''\n",
    "    for p in text_section.select('p'):\n",
    "        full_story += p.text\n",
    "\n",
    "    article_text.append(full_story)\n",
    "#     print(full_story)\n",
    "    article_date.append(article_soup.find('time')['datetime']) #time of article\n",
    "    now = datetime.datetime.now() #time of scrape\n",
    "    \n",
    "    # dd/mm/YY H:M:S\n",
    "    dt_string = now.strftime(\"%d/%m/%Y %H:%M:%S\")\n",
    "    #code from https://www.programiz.com/python-programming/datetime/current-datetime\n",
    "\n",
    "    date_scraped.append(dt_string) #append to list \n",
    "    \n",
    "    website.append('NPR')\n",
    "    print('done')\n",
    "    \n",
    "    #True or False if the story is the top_story of the webpage\n",
    "    is_top_story.append(counter == 1)\n",
    "    counter += 1  #increase timer to count for loop runs\n",
    "    \n",
    "    time.sleep(4)"
   ]
  },
  {
   "cell_type": "code",
   "execution_count": null,
   "metadata": {},
   "outputs": [],
   "source": [
    "lists = [headline, date_scraped, article_date, topic_tag, article_text, website]\n",
    "\n",
    "for item in lists:\n",
    "    print(len(item))"
   ]
  },
  {
   "cell_type": "markdown",
   "metadata": {},
   "source": [
    "# Vox \n",
    "\n",
    "Scraping:\n",
    "- Title"
   ]
  },
  {
   "cell_type": "code",
   "execution_count": null,
   "metadata": {},
   "outputs": [],
   "source": [
    "#find the section with the headline news and featured articles\n",
    "group_section = vox_soup.find('div', {'class':'c-newspaper__main'})\n",
    "\n",
    "#find the tag containing the titles for each featured article\n",
    "titles = group_section.find_all('a', {'data-chorus-optimize-field':'hed'}) \n",
    "\n",
    "vox_urls = []\n",
    "for title in titles:\n",
    "    print(title.text)\n",
    "    headline.append(title.text)  #append title to the headline list\n",
    "    vox_urls.append(title['href']) #append url to a list "
   ]
  },
  {
   "cell_type": "code",
   "execution_count": null,
   "metadata": {},
   "outputs": [],
   "source": [
    "lists = [headline, date_scraped, article_date, topic_tag, article_text, website]\n",
    "\n",
    "for item in lists:\n",
    "    print(len(item))"
   ]
  },
  {
   "cell_type": "markdown",
   "metadata": {},
   "source": [
    "- article_text\n",
    "- date_scraped\n",
    "- website\n",
    "- topic_tag\n",
    "- article_date\n",
    "- website"
   ]
  },
  {
   "cell_type": "code",
   "execution_count": null,
   "metadata": {},
   "outputs": [],
   "source": [
    "counter = 1\n",
    "\n",
    "for url in vox_urls:\n",
    "    page = requests.get(url)\n",
    "    print(page.status_code)\n",
    "    article_soup = BeautifulSoup(page.content, 'lxml')\n",
    "\n",
    "    \n",
    "    text_section = article_soup.find('div', {'class':'c-entry-content'}) #isolate the text only from the article\n",
    "    story_text = text_section.find_all('p') #grab all paragraph tags\n",
    "    \n",
    "    full_story = ''   #make an empty string to append each p to\n",
    "    \n",
    "    #get text under p tag and add to the full article story\n",
    "    for p in story_text:\n",
    "        full_story+= p.text\n",
    "        \n",
    "    article_text.append(full_story) #add to list of articles\n",
    "    \n",
    "    article_date.append(article_soup.find('time')['datetime']) #time of article\n",
    "    now = datetime.datetime.now() #get current time of scrape\n",
    "    \n",
    "    # dd/mm/YY H:M:S\n",
    "    dt_string = now.strftime(\"%d/%m/%Y %H:%M:%S\")\n",
    "    date_scraped.append(dt_string)\n",
    "    #code from https://www.programiz.com/python-programming/datetime/current-datetime    \n",
    "    website.append('Vox')  #record website of article origin\n",
    "    \n",
    "    topic_tag.append(None)\n",
    "    \n",
    "    is_top_story.append(counter == 1)\n",
    "    counter +=1\n"
   ]
  },
  {
   "cell_type": "code",
   "execution_count": null,
   "metadata": {},
   "outputs": [],
   "source": [
    "lists = [headline, date_scraped, article_date, topic_tag, article_text, website]\n",
    "\n",
    "for item in lists:\n",
    "    print(len(item))"
   ]
  },
  {
   "cell_type": "markdown",
   "metadata": {},
   "source": [
    "# Create DataFrame "
   ]
  },
  {
   "cell_type": "code",
   "execution_count": null,
   "metadata": {},
   "outputs": [],
   "source": [
    "vox_npr_df = pd.DataFrame({'headline':headline,\n",
    "                              'date_scraped':date_scraped,\n",
    "                              'article_date':article_date,\n",
    "                              'topic_tag':topic_tag,\n",
    "                              'article_text':article_text,\n",
    "                              'website':website})"
   ]
  },
  {
   "cell_type": "code",
   "execution_count": null,
   "metadata": {},
   "outputs": [],
   "source": [
    "filename = 'scrapes' + datetime.datetime.now().strftime(\"%d-%m-%Y_%H:%M\")\n",
    "\n",
    "vox_npr_df.to_csv(filename+'.csv', index = False)"
   ]
  },
  {
   "cell_type": "markdown",
   "metadata": {},
   "source": [
    "# Saving/Appending to CSV"
   ]
  },
  {
   "cell_type": "code",
   "execution_count": null,
   "metadata": {},
   "outputs": [],
   "source": [
    "# file_name = Path(\"scraped_lib_articles.csv\") #may need to change to os if we use s3 buckets\n",
    "\n",
    "# if file_name.exists():  #if file already exists in directory\n",
    "#     print('file exists, now appending')\n",
    "    \n",
    "#     #append new scrapes to the file without header row\n",
    "#     vox_npr_df.to_csv('scraped_lib_articles.csv', mode='a', index=False, header=False) \n",
    "\n",
    "# else: #if file does not exist yet\n",
    "#     print('file does not exist, now creating')\n",
    "# vox_npr_df.to_csv('scraped_lib_{}.csv'.format(dt_string), index=False) #create new file "
   ]
  },
  {
   "cell_type": "code",
   "execution_count": null,
   "metadata": {},
   "outputs": [],
   "source": []
  }
 ],
 "metadata": {
  "kernelspec": {
   "display_name": "Python 3",
   "language": "python",
   "name": "python3"
  },
  "language_info": {
   "codemirror_mode": {
    "name": "ipython",
    "version": 3
   },
   "file_extension": ".py",
   "mimetype": "text/x-python",
   "name": "python",
   "nbconvert_exporter": "python",
   "pygments_lexer": "ipython3",
   "version": "3.8.5"
  }
 },
 "nbformat": 4,
 "nbformat_minor": 4
}
