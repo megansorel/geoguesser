{
 "cells": [
  {
   "cell_type": "code",
   "execution_count": 1,
   "metadata": {},
   "outputs": [],
   "source": [
    "import pandas as pd\n",
    "import requests\n",
    "from bs4 import BeautifulSoup\n",
    "import datetime\n",
    "import re\n",
    "from pathlib import Path"
   ]
  },
  {
   "cell_type": "code",
   "execution_count": 2,
   "metadata": {},
   "outputs": [],
   "source": [
    "vox_url = 'https://www.vox.com/'\n",
    "npr_url = 'https://www.npr.org/'"
   ]
  },
  {
   "cell_type": "code",
   "execution_count": 3,
   "metadata": {},
   "outputs": [
    {
     "name": "stdout",
     "output_type": "stream",
     "text": [
      "200\n",
      "200\n"
     ]
    }
   ],
   "source": [
    "vox_res = requests.get(vox_url)\n",
    "npr_res = requests.get(npr_url)\n",
    "\n",
    "print(vox_res.status_code)\n",
    "print(npr_res.status_code)"
   ]
  },
  {
   "cell_type": "code",
   "execution_count": 4,
   "metadata": {},
   "outputs": [],
   "source": [
    "npr_soup = BeautifulSoup(npr_res.content, 'lxml')\n",
    "vox_soup = BeautifulSoup(vox_res.content, 'lxml')"
   ]
  },
  {
   "cell_type": "code",
   "execution_count": 5,
   "metadata": {},
   "outputs": [],
   "source": [
    "#whether the article was featured or not\n",
    "headline = []\n",
    "date_scraped = []\n",
    "article_date = []\n",
    "topic_tag = []\n",
    "article_text = []\n",
    "website = []"
   ]
  },
  {
   "cell_type": "markdown",
   "metadata": {},
   "source": [
    "# NPR Scrape"
   ]
  },
  {
   "cell_type": "markdown",
   "metadata": {},
   "source": [
    "Scraping Featured Stories\n",
    "- url\n",
    "- topic tag\n",
    "- title"
   ]
  },
  {
   "cell_type": "code",
   "execution_count": 6,
   "metadata": {},
   "outputs": [
    {
     "name": "stdout",
     "output_type": "stream",
     "text": [
      "<h3 class=\"title\">The Postal Service is slowing the mail to save money. Critics say it's a death spiral</h3> \n",
      "\n",
      "Politics \n",
      "\n",
      "\n",
      "<h3 class=\"title\">Journalists from the Philippines and Russia win the Nobel Peace Prize</h3> \n",
      "\n",
      "News \n",
      "\n",
      "\n",
      "<h3 class=\"title\">U.S. officials will negotiate a new security deal with Mexico during talks Friday</h3> \n",
      "\n",
      "World \n",
      "\n",
      "\n",
      "<h3 class=\"title\">No, it hasn't been the job recovery many had expected. But there's room for hope</h3> \n",
      "\n",
      "The Coronavirus Crisis \n",
      "\n",
      "\n",
      "<h3 class=\"title\">Exclusive: Governors have questions about Afghan refugees. Here's who they call</h3> \n",
      "\n",
      "Politics \n",
      "\n",
      "\n",
      "<h3 class=\"title\">California is the first state to ban 'stealthing,' nonconsensual condom removal</h3> \n",
      "\n",
      "Law \n",
      "\n",
      "\n",
      "<h3 class=\"title\">'Black Lady Therapists' are still a thing on TV. But now, they're more interesting</h3> \n",
      "\n",
      "Pop Culture Happy Hour \n",
      "\n",
      "\n",
      "7\n"
     ]
    }
   ],
   "source": [
    "#NPR \n",
    "\n",
    "#find the section with the headline news and featured articles\n",
    "group_section = npr_soup.find('div', {'class':'stories-wrap stories-wrap-featured'})\n",
    "\n",
    "#get only articles\n",
    "featured_stories = group_section.find_all('div', {'class':'story-wrap'})\n",
    "\n",
    "npr_urls = []\n",
    "#append urls for article \n",
    "for featured_story in featured_stories: \n",
    "    npr_urls.append(featured_story.find('a')['href'])          #get urls and append to urls list\n",
    "    title = featured_story.find('h3', {'class': 'title'})  # find all titles\n",
    "#     print(title, '\\n')\n",
    "    headline.append(title.text)                     #append titles to headline list\n",
    "    slug = featured_story.find('h2', {'class':'slug'}).text #find section containing topic\n",
    "#     print(slug.strip(), '\\n\\n')\n",
    "    topic_tag.append(slug.strip())                   #append slug/topic to topic list\n",
    "    \n",
    "print(len(npr_urls))"
   ]
  },
  {
   "cell_type": "code",
   "execution_count": 7,
   "metadata": {},
   "outputs": [
    {
     "name": "stdout",
     "output_type": "stream",
     "text": [
      "7\n",
      "0\n",
      "0\n",
      "7\n",
      "0\n",
      "0\n"
     ]
    }
   ],
   "source": [
    "lists = [headline, date_scraped, article_date, topic_tag, article_text, website]\n",
    "\n",
    "for item in lists:\n",
    "    print(len(item))"
   ]
  },
  {
   "cell_type": "markdown",
   "metadata": {},
   "source": [
    "Scraping Articles with One Article inside the story\n",
    "\n",
    "- date of article\n",
    "- full story\n",
    "- date of scrape\n",
    "- website"
   ]
  },
  {
   "cell_type": "code",
   "execution_count": 8,
   "metadata": {},
   "outputs": [
    {
     "name": "stdout",
     "output_type": "stream",
     "text": [
      "200\n",
      "200\n",
      "200\n",
      "200\n",
      "200\n",
      "200\n",
      "200\n"
     ]
    }
   ],
   "source": [
    "# print(url)\n",
    "for url in npr_urls:\n",
    "    page = requests.get(url)\n",
    "    print(page.status_code)\n",
    "\n",
    "    article_soup = BeautifulSoup(page.content, 'lxml')\n",
    "\n",
    "    #section, including pictures that holds the paragraph tags\n",
    "    text_section = article_soup.select_one('#storytext') # could I try rewriting as \n",
    "    if text_section is None:                      #article_soup.select_one(#storytext) ?? article_soup.find(div...)\n",
    "        text_section = article_soup.find('div', {'class':'ArticlePage-articleBody'})\n",
    "    \n",
    "    # Find the images sections of the articles\n",
    "    images = text_section.find_all('div', {'id': re.compile(r'res\\d+')})\n",
    "    for image in images: \n",
    "        image.extract()   #take out images from the text section due to nested 'p' tags\n",
    "\n",
    "    # Grab the article text and append to the article list \n",
    "    full_story = ''\n",
    "    for p in text_section.select('p'):\n",
    "        full_story += p.text\n",
    "\n",
    "    article_text.append(full_story)\n",
    "#     print(full_story)\n",
    "    article_date.append(article_soup.find('time')['datetime']) #time of article\n",
    "    now = datetime.datetime.now() #time of scrape\n",
    "    \n",
    "    # dd/mm/YY H:M:S\n",
    "    dt_string = now.strftime(\"%d/%m/%Y %H:%M:%S\")\n",
    "    #code from https://www.programiz.com/python-programming/datetime/current-datetime\n",
    "\n",
    "    date_scraped.append(dt_string) #append to list \n",
    "    \n",
    "    website.append('NPR')\n"
   ]
  },
  {
   "cell_type": "code",
   "execution_count": 9,
   "metadata": {},
   "outputs": [
    {
     "name": "stdout",
     "output_type": "stream",
     "text": [
      "7\n",
      "7\n",
      "7\n",
      "7\n",
      "7\n",
      "7\n"
     ]
    }
   ],
   "source": [
    "lists = [headline, date_scraped, article_date, topic_tag, article_text, website]\n",
    "\n",
    "for item in lists:\n",
    "    print(len(item))"
   ]
  },
  {
   "cell_type": "markdown",
   "metadata": {},
   "source": [
    "# Vox \n",
    "\n",
    "Scraping:\n",
    "- Title"
   ]
  },
  {
   "cell_type": "code",
   "execution_count": 10,
   "metadata": {},
   "outputs": [
    {
     "name": "stdout",
     "output_type": "stream",
     "text": [
      "The debt ceiling fight is far from over\n",
      "The US is closer than ever before to making major progress on the climate crisis\n",
      "How the risk of Covid-19 for kids compares to other dangers\n",
      "The Supreme Court takes a lie detector test\n",
      "The trillion-dollar coin scheme, explained by the guy who invented it \n",
      "Banks don’t want your money right now\n",
      "Supply chain havoc is getting worse — just in time for holiday shopping\n",
      "The WHO approval of the first malaria vaccine is a big deal\n"
     ]
    }
   ],
   "source": [
    "#find the section with the headline news and featured articles\n",
    "group_section = vox_soup.find('div', {'class':'c-newspaper__main'})\n",
    "\n",
    "#find the tag containing the titles for each featured article\n",
    "titles = group_section.find_all('a', {'data-chorus-optimize-field':'hed'}) \n",
    "\n",
    "vox_urls = []\n",
    "for title in titles:\n",
    "    print(title.text)\n",
    "    headline.append(title.text)  #append title to the headline list\n",
    "    vox_urls.append(title['href']) #append url to a list "
   ]
  },
  {
   "cell_type": "code",
   "execution_count": 11,
   "metadata": {},
   "outputs": [
    {
     "name": "stdout",
     "output_type": "stream",
     "text": [
      "15\n",
      "7\n",
      "7\n",
      "7\n",
      "7\n",
      "7\n"
     ]
    }
   ],
   "source": [
    "lists = [headline, date_scraped, article_date, topic_tag, article_text, website]\n",
    "\n",
    "for item in lists:\n",
    "    print(len(item))"
   ]
  },
  {
   "cell_type": "markdown",
   "metadata": {},
   "source": [
    "- article_text\n",
    "- date_scraped\n",
    "- website\n",
    "- topic_tag\n",
    "- article_date\n",
    "- website"
   ]
  },
  {
   "cell_type": "code",
   "execution_count": 12,
   "metadata": {},
   "outputs": [
    {
     "name": "stdout",
     "output_type": "stream",
     "text": [
      "200\n",
      "200\n",
      "200\n",
      "200\n",
      "200\n",
      "200\n",
      "200\n",
      "200\n"
     ]
    }
   ],
   "source": [
    "for url in vox_urls:\n",
    "    page = requests.get(url)\n",
    "    print(page.status_code)\n",
    "    article_soup = BeautifulSoup(page.content, 'lxml')\n",
    "\n",
    "    \n",
    "    text_section = article_soup.find('div', {'class':'c-entry-content'}) #isolate the text only from the article\n",
    "    story_text = text_section.find_all('p') #grab all paragraph tags\n",
    "    \n",
    "    full_story = ''   #make an empty string to append each p to\n",
    "    \n",
    "    #get text under p tag and add to the full article story\n",
    "    for p in story_text:\n",
    "        full_story+= p.text\n",
    "        \n",
    "    article_text.append(full_story) #add to list of articles\n",
    "    \n",
    "    article_date.append(article_soup.find('time')['datetime']) #time of article\n",
    "    now = datetime.datetime.now() #get current time of scrape\n",
    "    \n",
    "    # dd/mm/YY H:M:S\n",
    "    dt_string = now.strftime(\"%d/%m/%Y %H:%M:%S\")\n",
    "    date_scraped.append(dt_string)\n",
    "    #code from https://www.programiz.com/python-programming/datetime/current-datetime    \n",
    "    website.append('Vox')  #record website of article origin\n",
    "    \n",
    "    topic_tag.append(None)\n"
   ]
  },
  {
   "cell_type": "code",
   "execution_count": 13,
   "metadata": {},
   "outputs": [
    {
     "name": "stdout",
     "output_type": "stream",
     "text": [
      "15\n",
      "15\n",
      "15\n",
      "15\n",
      "15\n",
      "15\n"
     ]
    }
   ],
   "source": [
    "lists = [headline, date_scraped, article_date, topic_tag, article_text, website]\n",
    "\n",
    "for item in lists:\n",
    "    print(len(item))"
   ]
  },
  {
   "cell_type": "markdown",
   "metadata": {},
   "source": [
    "# Create DataFrame "
   ]
  },
  {
   "cell_type": "code",
   "execution_count": 14,
   "metadata": {},
   "outputs": [],
   "source": [
    "vox_npr_df = pd.DataFrame({'headline':headline,\n",
    "                              'date_scraped':date_scraped,\n",
    "                              'article_date':article_date,\n",
    "                              'topic_tag':topic_tag,\n",
    "                              'article_text':article_text,\n",
    "                              'website':website})"
   ]
  },
  {
   "cell_type": "markdown",
   "metadata": {},
   "source": [
    "# Saving/Appending to CSV"
   ]
  },
  {
   "cell_type": "code",
   "execution_count": 15,
   "metadata": {},
   "outputs": [
    {
     "name": "stdout",
     "output_type": "stream",
     "text": [
      "file exists, now appending\n"
     ]
    }
   ],
   "source": [
    "file_name = Path(\"scraped_lib_articles.csv\") #may need to change to os if we use s3 buckets\n",
    "\n",
    "if file_name.exists():  #if file already exists in directory\n",
    "    print('file exists, now appending')\n",
    "    \n",
    "    #append new scrapes to the file without header row\n",
    "    vox_npr_df.to_csv('scraped_lib_articles.csv', mode='a', index=False, header=False) \n",
    "\n",
    "else: #if file does not exist yet\n",
    "    print('file does not exist, now creating')\n",
    "    vox_npr_df.to_csv('scraped_lib_articles.csv', index=False) #create new file "
   ]
  }
 ],
 "metadata": {
  "kernelspec": {
   "display_name": "Python 3",
   "language": "python",
   "name": "python3"
  },
  "language_info": {
   "codemirror_mode": {
    "name": "ipython",
    "version": 3
   },
   "file_extension": ".py",
   "mimetype": "text/x-python",
   "name": "python",
   "nbconvert_exporter": "python",
   "pygments_lexer": "ipython3",
   "version": "3.8.5"
  }
 },
 "nbformat": 4,
 "nbformat_minor": 4
}
