{
 "cells": [
  {
   "cell_type": "code",
   "execution_count": 107,
   "metadata": {},
   "outputs": [],
   "source": [
    "import pandas as pd\n",
    "import numpy as np\n",
    "import requests\n",
    "from bs4 import BeautifulSoup"
   ]
  },
  {
   "cell_type": "code",
   "execution_count": 108,
   "metadata": {},
   "outputs": [],
   "source": [
    "vox_url = 'https://www.vox.com/'\n",
    "npr_url = 'https://www.npr.org/'"
   ]
  },
  {
   "cell_type": "code",
   "execution_count": 109,
   "metadata": {},
   "outputs": [
    {
     "name": "stdout",
     "output_type": "stream",
     "text": [
      "200\n",
      "200\n"
     ]
    }
   ],
   "source": [
    "vox_res = requests.get(vox_url)\n",
    "npr_res = requests.get(npr_url)\n",
    "\n",
    "print(vox_res.status_code)\n",
    "print(npr_res.status_code)"
   ]
  },
  {
   "cell_type": "code",
   "execution_count": 110,
   "metadata": {},
   "outputs": [],
   "source": [
    "npr_soup = BeautifulSoup(npr_res.content, 'lxml')\n",
    "vox_soup = BeautifulSoup(vox_res.content, 'lxml')"
   ]
  },
  {
   "cell_type": "code",
   "execution_count": 111,
   "metadata": {},
   "outputs": [
    {
     "name": "stdout",
     "output_type": "stream",
     "text": [
      "<h3 class=\"title\">How The Olympic Medal Table Explains The World</h3>\n",
      "<h3 class=\"title\">Men Who Have Been Sexually Abused Have Trouble Getting Treatment</h3>\n",
      "<h3 class=\"title\">Simone Biles Highlights The Unique Stresses Athletes Feel At The Tokyo Olympics</h3>\n",
      "<h3 class=\"title\">A Court In Ecuador Has Stripped Julian Assange Of His Citizenship</h3>\n",
      "<h3 class=\"title\">Olympians Are Dominating TikTok. Here's How To Follow Along</h3>\n",
      "<h3 class=\"title\">Democratic Donor Ed Buck Is Convicted In Deaths Of 2 Men He Offered Drugs For Sex</h3>\n",
      "<h3 class=\"title\">'Arthur,' The Longest-Running Kids Animated Series In History, Is Ending</h3>\n",
      "None\n"
     ]
    },
    {
     "ename": "TypeError",
     "evalue": "'NoneType' object is not subscriptable",
     "output_type": "error",
     "traceback": [
      "\u001b[0;31m---------------------------------------------------------------------------\u001b[0m",
      "\u001b[0;31mTypeError\u001b[0m                                 Traceback (most recent call last)",
      "\u001b[0;32m<ipython-input-111-85e8a85d26e2>\u001b[0m in \u001b[0;36m<module>\u001b[0;34m\u001b[0m\n\u001b[1;32m     24\u001b[0m             \u001b[0;32melse\u001b[0m\u001b[0;34m:\u001b[0m\u001b[0;34m\u001b[0m\u001b[0;34m\u001b[0m\u001b[0m\n\u001b[1;32m     25\u001b[0m                 \u001b[0mblurb\u001b[0m\u001b[0;34m.\u001b[0m\u001b[0mappend\u001b[0m\u001b[0;34m(\u001b[0m\u001b[0;32mNone\u001b[0m\u001b[0;34m)\u001b[0m\u001b[0;34m\u001b[0m\u001b[0;34m\u001b[0m\u001b[0m\n\u001b[0;32m---> 26\u001b[0;31m         \u001b[0murl\u001b[0m \u001b[0;34m=\u001b[0m \u001b[0marticles\u001b[0m\u001b[0;34m.\u001b[0m\u001b[0mfind\u001b[0m\u001b[0;34m(\u001b[0m\u001b[0;34m'a'\u001b[0m\u001b[0;34m)\u001b[0m\u001b[0;34m[\u001b[0m\u001b[0;34m'href'\u001b[0m\u001b[0;34m]\u001b[0m\u001b[0;34m\u001b[0m\u001b[0;34m\u001b[0m\u001b[0m\n\u001b[0m\u001b[1;32m     27\u001b[0m \u001b[0;34m\u001b[0m\u001b[0m\n\u001b[1;32m     28\u001b[0m \u001b[0;34m\u001b[0m\u001b[0m\n",
      "\u001b[0;31mTypeError\u001b[0m: 'NoneType' object is not subscriptable"
     ]
    }
   ],
   "source": [
    "#npr headlines\n",
    "\n",
    "#whether the article was featured or not\n",
    "top_story = []\n",
    "headline = []\n",
    "blurb = []\n",
    "date_scraped = []\n",
    "article_date = []\n",
    "topic_tag = []\n",
    "\n",
    "\n",
    "for tags in npr_soup.find_all('div', {'class':'stories-wrap stories-wrap-featured'}):\n",
    "    for articles in tags.find_all('article'):\n",
    "        title = articles.find('h3')\n",
    "        print(title)\n",
    "        for title in articles.find_all('h3'):\n",
    "            \n",
    "            headline.append(title.text)\n",
    "        for topics in articles.find_all('h2', {'class': 'slug'}):\n",
    "            topic_tag.append(topics.text)\n",
    "        for blurbs in articles.find_all('p', {'class': 'teaser'}):\n",
    "            if blurb:\n",
    "                blurb.append(blurbs.text)\n",
    "            else:\n",
    "                blurb.append(None)\n",
    "        url = articles.find('a')['href']\n",
    "        \n",
    "        \n",
    "\n",
    "        \n",
    "        \n",
    "        "
   ]
  },
  {
   "cell_type": "code",
   "execution_count": 94,
   "metadata": {},
   "outputs": [
    {
     "data": {
      "text/plain": [
       "['How An Altered Strand Of DNA Can Cause Malaria-Spreading Mosquitoes To Self-Destruct',\n",
       " 'He Inherited A Devastating Disease. A CRISPR Gene-Editing Breakthrough Stopped It',\n",
       " 'Simone Biles Highlights The Unique Stresses Athletes Feel At The Tokyo Olympics',\n",
       " \"The DOJ Won't Defend Rep. Mo Brooks In Court Against Claims He Incited Jan. 6 Riot\",\n",
       " 'How The Olympic Medal Table Explains The World',\n",
       " 'A Court In Ecuador Has Stripped Julian Assange Of His Citizenship',\n",
       " \"Rooibos Tea Is Africa's First Food To Join The EU's List Of Protected Products\",\n",
       " 'Democratic Donor Ed Buck Is Convicted In Deaths Of 2 Men He Offered Drugs For Sex']"
      ]
     },
     "execution_count": 94,
     "metadata": {},
     "output_type": "execute_result"
    }
   ],
   "source": [
    "headline"
   ]
  },
  {
   "cell_type": "code",
   "execution_count": 95,
   "metadata": {},
   "outputs": [
    {
     "data": {
      "text/plain": [
       "[]"
      ]
     },
     "execution_count": 95,
     "metadata": {},
     "output_type": "execute_result"
    }
   ],
   "source": [
    "blurb"
   ]
  },
  {
   "cell_type": "code",
   "execution_count": null,
   "metadata": {},
   "outputs": [],
   "source": []
  }
 ],
 "metadata": {
  "kernelspec": {
   "display_name": "Python 3",
   "language": "python",
   "name": "python3"
  },
  "language_info": {
   "codemirror_mode": {
    "name": "ipython",
    "version": 3
   },
   "file_extension": ".py",
   "mimetype": "text/x-python",
   "name": "python",
   "nbconvert_exporter": "python",
   "pygments_lexer": "ipython3",
   "version": "3.8.5"
  }
 },
 "nbformat": 4,
 "nbformat_minor": 4
}
