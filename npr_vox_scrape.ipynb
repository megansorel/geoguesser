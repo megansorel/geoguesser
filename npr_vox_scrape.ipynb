{
 "cells": [
  {
   "cell_type": "code",
   "execution_count": 1,
   "metadata": {},
   "outputs": [],
   "source": [
    "import pandas as pd\n",
    "import numpy as np\n",
    "import requests\n",
    "from bs4 import BeautifulSoup\n",
    "import datetime"
   ]
  },
  {
   "cell_type": "code",
   "execution_count": 2,
   "metadata": {},
   "outputs": [],
   "source": [
    "vox_url = 'https://www.vox.com/'\n",
    "npr_url = 'https://www.npr.org/'"
   ]
  },
  {
   "cell_type": "code",
   "execution_count": 3,
   "metadata": {},
   "outputs": [
    {
     "name": "stdout",
     "output_type": "stream",
     "text": [
      "200\n",
      "200\n"
     ]
    }
   ],
   "source": [
    "vox_res = requests.get(vox_url)\n",
    "npr_res = requests.get(npr_url)\n",
    "\n",
    "print(vox_res.status_code)\n",
    "print(npr_res.status_code)"
   ]
  },
  {
   "cell_type": "code",
   "execution_count": 4,
   "metadata": {},
   "outputs": [],
   "source": [
    "npr_soup = BeautifulSoup(npr_res.content, 'lxml')\n",
    "vox_soup = BeautifulSoup(vox_res.content, 'lxml')"
   ]
  },
  {
   "cell_type": "code",
   "execution_count": 5,
   "metadata": {},
   "outputs": [],
   "source": [
    "#whether the article was featured or not\n",
    "top_story_bool = []\n",
    "headline = []\n",
    "blurb = []\n",
    "date_scraped = []\n",
    "article_date = []\n",
    "topic_tag = []\n",
    "story = []"
   ]
  },
  {
   "cell_type": "code",
   "execution_count": 6,
   "metadata": {},
   "outputs": [],
   "source": [
    "#NPR \n",
    "\n",
    "#find the top featured story section\n",
    "headline_section = npr_soup.find('div', {'class':'story-wrap'})\n",
    "# print(headline_section)\n",
    "\n",
    "#get only the featured story, not including the substories in the section\n",
    "headline_text = npr_soup.find('div', {'class':'story-text'})\n",
    "# print(headline_text)\n",
    "\n",
    "#get headline of top story\n",
    "title = headline_text.find('h3', {'class':'title'})\n",
    "headline.append(title.text)\n",
    "\n",
    "#get the teaser blurb\n",
    "teaser = headline_text.find('p', {'class':'teaser'})\n",
    "# print(teaser.text)\n",
    "blurb.append(teaser.text)\n",
    "\n",
    "#record date of scrape\n",
    "date_scraped.append(datetime.datetime.utcnow())\n",
    "#add bool that story is headline\n",
    "top_story_bool = 1"
   ]
  },
  {
   "cell_type": "code",
   "execution_count": 15,
   "metadata": {},
   "outputs": [
    {
     "name": "stdout",
     "output_type": "stream",
     "text": [
      "<Response [200]>\n",
      "None\n"
     ]
    }
   ],
   "source": [
    "#grab the url for the full story \n",
    "featured_url = headline_text.find('a')['href']\n",
    "\n",
    "# print(featured_url)\n",
    "featured_page = requests.get(featured_url)\n",
    "print(featured_page)\n",
    "\n",
    "# print(featured_page.status_code)\n",
    "featured_soup = BeautifulSoup(featured_page.content, 'lxml')\n",
    "\n",
    "#section, including pictures that holds the paragraph tags\n",
    "featured_text_section = featured_soup.select_one('#storytext')\n",
    "print(featured_text_section)\n",
    "#stackoverflow code to remove imageid tag\n",
    "# imageid = featured_text_section.select_one(\"#res\") #use regex for image id\n",
    "# imageid.extract()\n",
    "\n",
    "# for p in featured_text_section.select('p'):\n",
    "#     print(p.text)\n",
    "    \n",
    "# paragraphs = featured_text_section.find_all('p', )\n",
    "# for p in paragraphs:\n",
    "#     print(p)\n",
    "# #     story.append(p.text)\n",
    "    \n",
    "# #get the time of the story\n",
    "# section = featured_soup.find('div', {'id':'story_meta'})\n",
    "# print(section)\n",
    "\n",
    "# time = featured_soup.find('time')['datetime']\n",
    "# print(time)"
   ]
  },
  {
   "cell_type": "code",
   "execution_count": null,
   "metadata": {},
   "outputs": [],
   "source": [
    "\n",
    "        \n",
    "        \n",
    "        \n",
    "        \n",
    "        \n",
    "        \n",
    "        \n",
    "#         title = articles.find('h3')\n",
    "#         print(title)\n",
    "#         for title in articles.find_all('h3'):\n",
    "            \n",
    "#             headline.append(title.text)\n",
    "#         for topics in articles.find_all('h2', {'class': 'slug'}):\n",
    "#             topic_tag.append(topics.text)\n",
    "#         for blurbs in articles.find_all('p', {'class': 'teaser'}):\n",
    "#             if blurb:\n",
    "#                 blurb.append(blurbs.text)\n",
    "#             else:\n",
    "#                 blurb.append(None)\n",
    "#         url = articles.find('a')['href']\n",
    "        \n",
    "        \n"
   ]
  },
  {
   "cell_type": "code",
   "execution_count": null,
   "metadata": {},
   "outputs": [],
   "source": [
    "blurb"
   ]
  },
  {
   "cell_type": "code",
   "execution_count": null,
   "metadata": {},
   "outputs": [],
   "source": []
  }
 ],
 "metadata": {
  "kernelspec": {
   "display_name": "Python 3",
   "language": "python",
   "name": "python3"
  },
  "language_info": {
   "codemirror_mode": {
    "name": "ipython",
    "version": 3
   },
   "file_extension": ".py",
   "mimetype": "text/x-python",
   "name": "python",
   "nbconvert_exporter": "python",
   "pygments_lexer": "ipython3",
   "version": "3.8.5"
  }
 },
 "nbformat": 4,
 "nbformat_minor": 4
}
